{
 "cells": [
  {
   "cell_type": "code",
   "execution_count": 1,
   "id": "molecular-security",
   "metadata": {},
   "outputs": [
    {
     "name": "stdout",
     "output_type": "stream",
     "text": [
      "Requirement already satisfied: bert-for-tf2 in c:\\users\\navyasree\\anaconda3\\envs\\fakenews\\lib\\site-packages (0.14.9)\n",
      "Requirement already satisfied: params-flow>=0.8.0 in c:\\users\\navyasree\\anaconda3\\envs\\fakenews\\lib\\site-packages (from bert-for-tf2) (0.8.2)\n",
      "Requirement already satisfied: py-params>=0.9.6 in c:\\users\\navyasree\\anaconda3\\envs\\fakenews\\lib\\site-packages (from bert-for-tf2) (0.10.2)\n",
      "Requirement already satisfied: tqdm in c:\\users\\navyasree\\anaconda3\\envs\\fakenews\\lib\\site-packages (from params-flow>=0.8.0->bert-for-tf2) (4.59.0)\n",
      "Requirement already satisfied: numpy in c:\\users\\navyasree\\anaconda3\\envs\\fakenews\\lib\\site-packages (from params-flow>=0.8.0->bert-for-tf2) (1.19.5)\n",
      "Requirement already satisfied: sentencepiece in c:\\users\\navyasree\\anaconda3\\envs\\fakenews\\lib\\site-packages (0.1.95)\n"
     ]
    }
   ],
   "source": [
    "!pip install bert-for-tf2\n",
    "!pip install sentencepiece"
   ]
  },
  {
   "cell_type": "code",
   "execution_count": 2,
   "id": "defined-factor",
   "metadata": {},
   "outputs": [],
   "source": [
    "try:\n",
    "    %tensorflow_version 2.x\n",
    "except Exception:\n",
    "    pass\n",
    "import tensorflow as tf\n",
    "from tensorflow.keras.models import Sequential\n",
    "from tensorflow.keras.layers import Dense, Flatten, LSTM, Dropout, Activation, Embedding, Bidirectional\n",
    "import tensorflow_hub as hub\n",
    "from tensorflow.keras import layers\n",
    "import bert\n",
    "import pandas as pd\n",
    "import re\n",
    "import csv\n",
    "import numpy as np\n",
    "import math"
   ]
  },
  {
   "cell_type": "code",
   "execution_count": 3,
   "id": "included-gauge",
   "metadata": {},
   "outputs": [
    {
     "name": "stdout",
     "output_type": "stream",
     "text": [
      "2.4.1\n"
     ]
    }
   ],
   "source": [
    "print(tf.__version__)"
   ]
  },
  {
   "cell_type": "code",
   "execution_count": 4,
   "id": "bibliographic-conclusion",
   "metadata": {},
   "outputs": [],
   "source": [
    "BertTokenizer = bert.bert_tokenization.FullTokenizer\n",
    "bert_layer = hub.KerasLayer(\"https://tfhub.dev/tensorflow/bert_en_uncased_L-12_H-768_A-12/1\",\n",
    "                            trainable=False)\n",
    "vocabulary_file = bert_layer.resolved_object.vocab_file.asset_path.numpy()\n",
    "to_lower_case = bert_layer.resolved_object.do_lower_case.numpy()\n",
    "tokenizer = BertTokenizer(vocabulary_file, to_lower_case)"
   ]
  },
  {
   "cell_type": "code",
   "execution_count": 5,
   "id": "cross-nerve",
   "metadata": {},
   "outputs": [
    {
     "data": {
      "text/plain": [
       "(6420, 3)"
      ]
     },
     "execution_count": 5,
     "metadata": {},
     "output_type": "execute_result"
    }
   ],
   "source": [
    "train_all = pd.read_csv(\"all2.csv\", delimiter = \",\")\n",
    "train_all.isnull().values.any()\n",
    "train_all.shape"
   ]
  },
  {
   "cell_type": "code",
   "execution_count": 6,
   "id": "usual-elevation",
   "metadata": {},
   "outputs": [],
   "source": [
    "def preprocess_text(sen):\n",
    "    # Removing html tags\n",
    "    sentence = remove_tags(sen)\n",
    "\n",
    "    # Remove punctuations and numbers\n",
    "    sentence = re.sub('[^a-zA-Z]', ' ', sentence)\n",
    "\n",
    "    # Single character removal\n",
    "    sentence = re.sub(r\"\\s+[a-zA-Z]\\s+\", ' ', sentence)\n",
    "\n",
    "    # Removing multiple spaces\n",
    "    sentence = re.sub(r'\\s+', ' ', sentence)\n",
    "\n",
    "    return sentence"
   ]
  },
  {
   "cell_type": "code",
   "execution_count": 7,
   "id": "cellular-thriller",
   "metadata": {},
   "outputs": [],
   "source": [
    "TAG_RE = re.compile(r'<[^>]+>')\n",
    "\n",
    "def remove_tags(text):\n",
    "    return TAG_RE.sub('', text)"
   ]
  },
  {
   "cell_type": "code",
   "execution_count": 8,
   "id": "crude-working",
   "metadata": {},
   "outputs": [
    {
     "name": "stdout",
     "output_type": "stream",
     "text": [
      "6420\n"
     ]
    }
   ],
   "source": [
    "articles = []\n",
    "labels = []\n",
    "\n",
    "with open(\"all2.csv\", 'r', encoding = 'utf-8') as csvfile:\n",
    "    reader = csv.reader(csvfile, delimiter=',')\n",
    "    next(reader)\n",
    "    for row in reader:\n",
    "        labels.append(row[2])\n",
    "        #if(len(row)>13):\n",
    "            #article = row[2]+row[3]+row[4]+row[5]+row[7]+row[13]\n",
    "        #else:\n",
    "        article = row[1]\n",
    "        articles.append(preprocess_text(article))\n",
    "\n",
    "print(len(articles))"
   ]
  },
  {
   "cell_type": "code",
   "execution_count": 9,
   "id": "domestic-confidentiality",
   "metadata": {},
   "outputs": [],
   "source": [
    "def tokenize_articles(txt):\n",
    "    return tokenizer.convert_tokens_to_ids(tokenizer.tokenize(txt))"
   ]
  },
  {
   "cell_type": "code",
   "execution_count": 10,
   "id": "international-volunteer",
   "metadata": {},
   "outputs": [
    {
     "name": "stdout",
     "output_type": "stream",
     "text": [
      "6420\n"
     ]
    }
   ],
   "source": [
    "tokenized_articles = [tokenize_articles(article) for article in articles]\n",
    "print(len(tokenized_articles))"
   ]
  },
  {
   "cell_type": "code",
   "execution_count": 11,
   "id": "sapphire-hours",
   "metadata": {},
   "outputs": [
    {
     "name": "stdout",
     "output_type": "stream",
     "text": [
      "[1 1 0 ... 0 0 1]\n"
     ]
    }
   ],
   "source": [
    "y = train_all['label']\n",
    "y = np.array(list(map(lambda x: 1 if x=='real' else 0, y)))\n",
    "\n",
    "print(y)"
   ]
  },
  {
   "cell_type": "code",
   "execution_count": 12,
   "id": "conceptual-hindu",
   "metadata": {},
   "outputs": [],
   "source": [
    "input_with_len = [[tokenized_articles[i], y[i], len(tokenized_articles[i])]\n",
    "                 for i in range(0, len(articles))]"
   ]
  },
  {
   "cell_type": "code",
   "execution_count": 13,
   "id": "virgin-aerospace",
   "metadata": {},
   "outputs": [
    {
     "name": "stdout",
     "output_type": "stream",
     "text": [
      "[[16034, 8563, 21887, 23350], 0, 4]\n"
     ]
    }
   ],
   "source": [
    "input_with_len.sort(key=lambda x: x[2])\n",
    "print(input_with_len[0])"
   ]
  },
  {
   "cell_type": "code",
   "execution_count": 14,
   "id": "horizontal-booth",
   "metadata": {},
   "outputs": [
    {
     "name": "stdout",
     "output_type": "stream",
     "text": [
      "6420\n",
      "([16034, 8563, 21887, 23350], 0)\n"
     ]
    }
   ],
   "source": [
    "import random\n",
    "\n",
    "sorted_articles_labels = [(article_lab[0], article_lab[1]) for article_lab in input_with_len]\n",
    "print(len(sorted_articles_labels))\n",
    "print(sorted_articles_labels[0])\n",
    "random.shuffle(sorted_articles_labels)"
   ]
  },
  {
   "cell_type": "code",
   "execution_count": 15,
   "id": "experimental-sympathy",
   "metadata": {},
   "outputs": [],
   "source": [
    "processed_dataset = tf.data.Dataset.from_generator(lambda: sorted_articles_labels, output_types=(tf.int32, tf.int32))"
   ]
  },
  {
   "cell_type": "code",
   "execution_count": 16,
   "id": "useful-peoples",
   "metadata": {},
   "outputs": [
    {
     "data": {
      "text/plain": [
       "(<tf.Tensor: shape=(32, 102), dtype=int32, numpy=\n",
       " array([[ 2176,  2047,  3572, ...,     0,     0,     0],\n",
       "        [13857,  8112,  2003, ...,     0,     0,     0],\n",
       "        [ 3533,  4487, 29055, ...,     0,     0,     0],\n",
       "        ...,\n",
       "        [ 2006,  1996,  2598, ...,     0,     0,     0],\n",
       "        [ 2009,  2097,  2202, ...,     0,     0,     0],\n",
       "        [ 2067,  3406, 10760, ...,     0,     0,     0]])>,\n",
       " <tf.Tensor: shape=(32,), dtype=int32, numpy=\n",
       " array([1, 0, 0, 0, 1, 0, 1, 1, 1, 0, 1, 0, 1, 1, 0, 0, 1, 1, 0, 0, 1, 1,\n",
       "        1, 1, 0, 0, 0, 1, 0, 1, 1, 1])>)"
      ]
     },
     "execution_count": 16,
     "metadata": {},
     "output_type": "execute_result"
    }
   ],
   "source": [
    "BATCH_SIZE = 32\n",
    "batched_dataset = processed_dataset.padded_batch(BATCH_SIZE, padded_shapes=((None, ), ()))\n",
    "next(iter(batched_dataset))"
   ]
  },
  {
   "cell_type": "code",
   "execution_count": 17,
   "id": "scientific-gasoline",
   "metadata": {},
   "outputs": [
    {
     "name": "stdout",
     "output_type": "stream",
     "text": [
      "201\n",
      "10\n"
     ]
    }
   ],
   "source": [
    "TOTAL_BATCHES = math.ceil(len(sorted_articles_labels) / BATCH_SIZE)\n",
    "print(TOTAL_BATCHES)\n",
    "TEST_BATCHES = TOTAL_BATCHES // 20\n",
    "batched_dataset.shuffle(TOTAL_BATCHES)\n",
    "test_data = batched_dataset.take(TEST_BATCHES)\n",
    "train_data = batched_dataset.skip(TEST_BATCHES)\n",
    "print(TEST_BATCHES)"
   ]
  },
  {
   "cell_type": "code",
   "execution_count": 18,
   "id": "opposed-consciousness",
   "metadata": {},
   "outputs": [],
   "source": [
    "class TEXT_MODEL(tf.keras.Model):\n",
    "    \n",
    "    def __init__(self,\n",
    "                 vocabulary_size,\n",
    "                 embedding_dimensions=128,\n",
    "                 cnn_filters=50,\n",
    "                 dnn_units=512,\n",
    "                 model_output_classes=2,\n",
    "                 dropout_rate=0.1,\n",
    "                 training=False,\n",
    "                 name=\"text_model\"):\n",
    "        super(TEXT_MODEL, self).__init__(name=name)\n",
    "        \n",
    "        self.embedding = layers.Embedding(vocabulary_size,\n",
    "                                          embedding_dimensions)\n",
    "        self.cnn_layer1 = layers.Conv1D(filters=cnn_filters,\n",
    "                                        kernel_size=2,\n",
    "                                        padding=\"valid\",\n",
    "                                        activation=\"relu\")\n",
    "        self.cnn_layer2 = layers.Conv1D(filters=cnn_filters,\n",
    "                                        kernel_size=3,\n",
    "                                        padding=\"valid\",\n",
    "                                        activation=\"relu\")\n",
    "        self.cnn_layer3 = layers.Bidirectional(LSTM(embedding_dimensions))\n",
    "        self.pool = layers.GlobalMaxPool1D()\n",
    "\n",
    "        \n",
    "        self.dense_1 = layers.Dense(units=dnn_units, activation=\"relu\")\n",
    "        self.dropout = layers.Dropout(rate=dropout_rate)\n",
    "        if model_output_classes == 2:\n",
    "            self.last_dense = layers.Dense(units=1,\n",
    "                                           activation=\"sigmoid\")\n",
    "        else:\n",
    "            self.last_dense = layers.Dense(units=model_output_classes,\n",
    "                                           activation=\"softmax\")\n",
    "    \n",
    "    def call(self, inputs, training):\n",
    "        l = self.embedding(inputs)\n",
    "        l_1 = self.cnn_layer1(l) \n",
    "        l_1 = self.pool(l_1) \n",
    "        l_2 = self.cnn_layer2(l) \n",
    "        l_2 = self.pool(l_2)\n",
    "        l_3 = self.cnn_layer3(l)\n",
    "        \n",
    "        concatenated = tf.concat([l_1, l_2, l_3], axis=-1) # (batch_size, 3 * cnn_filters)\n",
    "        concatenated = self.dense_1(concatenated)\n",
    "        concatenated = self.dropout(concatenated, training)\n",
    "        model_output = self.last_dense(concatenated)\n",
    "        \n",
    "        return model_output"
   ]
  },
  {
   "cell_type": "code",
   "execution_count": 23,
   "id": "confident-french",
   "metadata": {},
   "outputs": [],
   "source": [
    "VOCAB_LENGTH = len(tokenizer.vocab)\n",
    "EMB_DIM = 200\n",
    "CNN_FILTERS = 100\n",
    "DNN_UNITS = 256\n",
    "OUTPUT_CLASSES = 2\n",
    "\n",
    "DROPOUT_RATE = 0.2\n",
    "\n",
    "NB_EPOCHS = 10"
   ]
  },
  {
   "cell_type": "code",
   "execution_count": 24,
   "id": "wireless-newcastle",
   "metadata": {},
   "outputs": [],
   "source": [
    "text_model = TEXT_MODEL(vocabulary_size=VOCAB_LENGTH,\n",
    "                        embedding_dimensions=EMB_DIM,\n",
    "                        cnn_filters=CNN_FILTERS,\n",
    "                        dnn_units=DNN_UNITS,\n",
    "                        model_output_classes=OUTPUT_CLASSES,\n",
    "                        dropout_rate=DROPOUT_RATE)"
   ]
  },
  {
   "cell_type": "code",
   "execution_count": 25,
   "id": "unusual-timber",
   "metadata": {},
   "outputs": [],
   "source": [
    "if OUTPUT_CLASSES == 2:\n",
    "    text_model.compile(loss=\"binary_crossentropy\",\n",
    "                       optimizer=\"adam\",\n",
    "                       metrics=[\"accuracy\"])\n",
    "else:\n",
    "    text_model.compile(loss=\"sparse_categorical_crossentropy\",\n",
    "                       optimizer=\"adam\",\n",
    "                       metrics=[\"sparse_categorical_accuracy\"])"
   ]
  },
  {
   "cell_type": "code",
   "execution_count": 26,
   "id": "previous-class",
   "metadata": {},
   "outputs": [
    {
     "name": "stdout",
     "output_type": "stream",
     "text": [
      "Epoch 1/10\n",
      "191/191 [==============================] - 151s 776ms/step - loss: 0.4194 - accuracy: 0.7796\n",
      "Epoch 2/10\n",
      "191/191 [==============================] - 166s 869ms/step - loss: 0.0740 - accuracy: 0.9736\n",
      "Epoch 3/10\n",
      "191/191 [==============================] - 162s 850ms/step - loss: 0.0147 - accuracy: 0.9963\n",
      "Epoch 4/10\n",
      "191/191 [==============================] - 149s 780ms/step - loss: 0.0033 - accuracy: 0.9984\n",
      "Epoch 5/10\n",
      "191/191 [==============================] - 169s 885ms/step - loss: 0.0026 - accuracy: 0.9993\n",
      "Epoch 6/10\n",
      "191/191 [==============================] - 165s 865ms/step - loss: 0.0034 - accuracy: 0.9993\n",
      "Epoch 7/10\n",
      "191/191 [==============================] - 160s 840ms/step - loss: 0.0023 - accuracy: 0.9991\n",
      "Epoch 8/10\n",
      "191/191 [==============================] - 166s 871ms/step - loss: 0.0018 - accuracy: 0.9999\n",
      "Epoch 9/10\n",
      "191/191 [==============================] - 168s 882ms/step - loss: 6.0160e-04 - accuracy: 0.9999\n",
      "Epoch 10/10\n",
      "191/191 [==============================] - 158s 826ms/step - loss: 8.0983e-05 - accuracy: 1.0000\n"
     ]
    },
    {
     "data": {
      "text/plain": [
       "<tensorflow.python.keras.callbacks.History at 0x1dc0c096940>"
      ]
     },
     "execution_count": 26,
     "metadata": {},
     "output_type": "execute_result"
    }
   ],
   "source": [
    "text_model.fit(train_data, epochs=NB_EPOCHS)"
   ]
  },
  {
   "cell_type": "code",
   "execution_count": 68,
   "id": "appreciated-african",
   "metadata": {},
   "outputs": [
    {
     "name": "stdout",
     "output_type": "stream",
     "text": [
      "10/10 [==============================] - 1s 98ms/step - loss: 0.5138 - accuracy: 0.9156\n",
      "[0.5137870907783508, 0.9156249761581421]\n"
     ]
    }
   ],
   "source": [
    "results = text_model.evaluate(test_data)\n",
    "pred = text_model.predict(test_data)\n",
    "print(results)"
   ]
  },
  {
   "cell_type": "code",
   "execution_count": 69,
   "id": "residential-inspector",
   "metadata": {},
   "outputs": [
    {
     "name": "stdout",
     "output_type": "stream",
     "text": [
      "[[1.00000000e+00]\n",
      " [1.01031449e-11]\n",
      " [1.98519725e-08]\n",
      " [3.47161767e-05]\n",
      " [1.00000000e+00]\n",
      " [3.51955295e-02]\n",
      " [1.00000000e+00]\n",
      " [1.00000000e+00]\n",
      " [9.99969304e-01]\n",
      " [6.62073035e-07]\n",
      " [1.00000000e+00]\n",
      " [7.51859286e-09]\n",
      " [9.73278761e-01]\n",
      " [9.99997377e-01]\n",
      " [1.47273122e-05]\n",
      " [8.34813714e-03]\n",
      " [1.00000000e+00]\n",
      " [1.45903230e-03]\n",
      " [1.85972002e-08]\n",
      " [3.87793406e-08]\n",
      " [9.99992609e-01]\n",
      " [4.79387969e-01]\n",
      " [1.00000000e+00]\n",
      " [9.99969602e-01]\n",
      " [1.39524836e-08]\n",
      " [1.62011385e-03]\n",
      " [9.99999344e-01]\n",
      " [1.00000000e+00]\n",
      " [7.16174689e-11]\n",
      " [1.00000000e+00]\n",
      " [6.03988767e-03]\n",
      " [9.99553204e-01]\n",
      " [1.00000000e+00]\n",
      " [1.00000000e+00]\n",
      " [1.00000000e+00]\n",
      " [8.71626377e-01]\n",
      " [2.12079144e-07]\n",
      " [1.00000000e+00]\n",
      " [1.00000000e+00]\n",
      " [1.26482848e-06]\n",
      " [1.57256777e-10]\n",
      " [9.99995828e-01]\n",
      " [9.99998927e-01]\n",
      " [3.03357840e-04]\n",
      " [3.58732866e-09]\n",
      " [4.75096405e-02]\n",
      " [2.68230081e-01]\n",
      " [9.99999762e-01]\n",
      " [4.44511442e-12]\n",
      " [1.86732638e-08]\n",
      " [9.99266446e-01]\n",
      " [2.03580530e-08]\n",
      " [2.62977242e-01]\n",
      " [1.00000000e+00]\n",
      " [9.99998689e-01]\n",
      " [1.00000000e+00]\n",
      " [1.48534775e-04]\n",
      " [1.00000000e+00]\n",
      " [3.80390406e-06]\n",
      " [2.46322155e-03]\n",
      " [1.67132123e-06]\n",
      " [4.57028122e-12]\n",
      " [5.39124130e-07]\n",
      " [1.36982594e-08]\n",
      " [1.32528335e-01]\n",
      " [2.84975293e-10]\n",
      " [1.38357789e-11]\n",
      " [1.00000000e+00]\n",
      " [9.99999642e-01]\n",
      " [2.12442486e-09]\n",
      " [5.84172821e-10]\n",
      " [5.87433577e-04]\n",
      " [9.62046027e-01]\n",
      " [1.00000000e+00]\n",
      " [1.00000000e+00]\n",
      " [1.00000000e+00]\n",
      " [1.00000000e+00]\n",
      " [8.58151834e-05]\n",
      " [3.89405119e-10]\n",
      " [1.00000000e+00]\n",
      " [8.19419602e-11]\n",
      " [1.20028190e-07]\n",
      " [9.97312188e-01]\n",
      " [2.64846506e-07]\n",
      " [1.55939137e-08]\n",
      " [4.87583721e-18]\n",
      " [1.00000000e+00]\n",
      " [2.97048661e-08]\n",
      " [1.01244041e-07]\n",
      " [1.06753805e-06]\n",
      " [7.12898114e-08]\n",
      " [9.79594118e-13]\n",
      " [9.20278072e-01]\n",
      " [2.50661671e-02]\n",
      " [1.54870587e-08]\n",
      " [8.78049369e-12]\n",
      " [1.00000000e+00]\n",
      " [4.26465273e-03]\n",
      " [2.83500247e-13]\n",
      " [2.10613110e-10]\n",
      " [3.59874964e-03]\n",
      " [1.00000000e+00]\n",
      " [1.16313577e-01]\n",
      " [1.00000000e+00]\n",
      " [9.99953628e-01]\n",
      " [5.07807352e-10]\n",
      " [6.59165322e-13]\n",
      " [6.46126270e-03]\n",
      " [2.70915956e-09]\n",
      " [9.99309182e-01]\n",
      " [1.12018915e-06]\n",
      " [1.23247024e-04]\n",
      " [9.99990225e-01]\n",
      " [1.00000000e+00]\n",
      " [9.99394119e-01]\n",
      " [1.44869089e-04]\n",
      " [9.99999523e-01]\n",
      " [1.51029305e-08]\n",
      " [1.00000000e+00]\n",
      " [5.98959673e-07]\n",
      " [9.99990702e-01]\n",
      " [9.99988973e-01]\n",
      " [6.46144152e-04]\n",
      " [3.32145511e-08]\n",
      " [1.15732264e-10]\n",
      " [9.94035125e-01]\n",
      " [3.03260916e-10]\n",
      " [9.99927640e-01]\n",
      " [1.00000000e+00]\n",
      " [1.00000000e+00]\n",
      " [8.83986652e-01]\n",
      " [2.88318753e-01]\n",
      " [9.99971867e-01]\n",
      " [2.25146204e-01]\n",
      " [9.61192787e-01]\n",
      " [5.96136161e-12]\n",
      " [1.00000000e+00]\n",
      " [1.00000000e+00]\n",
      " [1.00000000e+00]\n",
      " [9.99998569e-01]\n",
      " [3.50929690e-06]\n",
      " [4.63428598e-14]\n",
      " [9.19110794e-12]\n",
      " [9.70377326e-01]\n",
      " [1.00000000e+00]\n",
      " [1.17195684e-10]\n",
      " [9.99534607e-01]\n",
      " [7.03776323e-07]\n",
      " [1.34604090e-06]\n",
      " [1.28493163e-08]\n",
      " [9.99923825e-01]\n",
      " [1.00000000e+00]\n",
      " [7.01308345e-10]\n",
      " [7.01362787e-11]\n",
      " [3.40009123e-08]\n",
      " [1.00000000e+00]\n",
      " [9.99300957e-01]\n",
      " [7.11359804e-10]\n",
      " [1.00000000e+00]\n",
      " [1.37768388e-02]\n",
      " [1.00000000e+00]\n",
      " [1.00000000e+00]\n",
      " [3.91940647e-11]\n",
      " [3.53521386e-07]\n",
      " [1.00000000e+00]\n",
      " [1.65914997e-08]\n",
      " [9.99998689e-01]\n",
      " [1.00000000e+00]\n",
      " [1.00000000e+00]\n",
      " [9.99999166e-01]\n",
      " [4.44489717e-03]\n",
      " [1.00000000e+00]\n",
      " [9.99999762e-01]\n",
      " [4.50580060e-01]\n",
      " [7.39288628e-01]\n",
      " [9.99982595e-01]\n",
      " [1.57314761e-09]\n",
      " [4.34416521e-08]\n",
      " [1.08933840e-09]\n",
      " [7.14110356e-05]\n",
      " [6.47092935e-10]\n",
      " [1.00000000e+00]\n",
      " [1.00000000e+00]\n",
      " [4.00259387e-06]\n",
      " [1.08229592e-07]\n",
      " [1.00000000e+00]\n",
      " [2.13895929e-10]\n",
      " [1.00000000e+00]\n",
      " [9.70339894e-01]\n",
      " [1.43858854e-08]\n",
      " [1.17677271e-10]\n",
      " [8.34806342e-05]\n",
      " [1.66648277e-08]\n",
      " [9.99991894e-01]\n",
      " [9.99982059e-01]\n",
      " [6.47502468e-11]\n",
      " [5.95445798e-14]\n",
      " [2.32428874e-06]\n",
      " [1.00000000e+00]\n",
      " [2.73317099e-04]\n",
      " [1.00000000e+00]\n",
      " [9.99470472e-01]\n",
      " [1.65742099e-01]\n",
      " [1.00000000e+00]\n",
      " [2.02304406e-11]\n",
      " [1.00000000e+00]\n",
      " [5.87315355e-07]\n",
      " [1.00000000e+00]\n",
      " [1.00000000e+00]\n",
      " [1.47771004e-07]\n",
      " [3.92904331e-09]\n",
      " [1.00000000e+00]\n",
      " [1.00000000e+00]\n",
      " [9.99998808e-01]\n",
      " [9.99999285e-01]\n",
      " [3.96093203e-09]\n",
      " [1.41665339e-03]\n",
      " [1.00000000e+00]\n",
      " [1.02475286e-03]\n",
      " [9.99995530e-01]\n",
      " [4.08037840e-06]\n",
      " [2.04986730e-08]\n",
      " [1.50099544e-10]\n",
      " [1.59216967e-07]\n",
      " [9.99990821e-01]\n",
      " [6.78541875e-11]\n",
      " [2.52741575e-02]\n",
      " [1.00000000e+00]\n",
      " [1.00000000e+00]\n",
      " [1.00000000e+00]\n",
      " [5.83102524e-01]\n",
      " [3.21396759e-17]\n",
      " [1.00000000e+00]\n",
      " [9.99999344e-01]\n",
      " [1.00000000e+00]\n",
      " [2.89663092e-07]\n",
      " [1.21948993e-08]\n",
      " [4.23484670e-09]\n",
      " [9.99964237e-01]\n",
      " [5.07154763e-02]\n",
      " [9.29905025e-14]\n",
      " [9.99847412e-01]\n",
      " [9.96502638e-01]\n",
      " [1.02903426e-01]\n",
      " [9.99965370e-01]\n",
      " [9.99999642e-01]\n",
      " [1.13193096e-06]\n",
      " [6.24299355e-06]\n",
      " [9.99679565e-01]\n",
      " [9.99966681e-01]\n",
      " [4.41985545e-11]\n",
      " [3.89891568e-08]\n",
      " [9.99998629e-01]\n",
      " [1.00000000e+00]\n",
      " [3.85380627e-05]\n",
      " [1.00000000e+00]\n",
      " [7.94265588e-07]\n",
      " [9.99906540e-01]\n",
      " [9.99905825e-01]\n",
      " [9.99995887e-01]\n",
      " [9.94002223e-01]\n",
      " [9.99236584e-01]\n",
      " [1.00000000e+00]\n",
      " [1.00000000e+00]\n",
      " [8.34769198e-10]\n",
      " [3.88973825e-10]\n",
      " [9.85952139e-01]\n",
      " [1.00000000e+00]\n",
      " [9.04840767e-01]\n",
      " [1.00000000e+00]\n",
      " [9.14797425e-01]\n",
      " [4.18422818e-02]\n",
      " [9.99997795e-01]\n",
      " [2.33182982e-05]\n",
      " [1.00000000e+00]\n",
      " [1.00000000e+00]\n",
      " [1.00000000e+00]\n",
      " [1.00000000e+00]\n",
      " [9.97411728e-01]\n",
      " [1.43097456e-09]\n",
      " [1.00000000e+00]\n",
      " [2.20575273e-01]\n",
      " [9.99384165e-01]\n",
      " [3.70612327e-07]\n",
      " [1.00000000e+00]\n",
      " [9.99085009e-01]\n",
      " [1.00000000e+00]\n",
      " [1.69816117e-09]\n",
      " [1.00000000e+00]\n",
      " [1.00000000e+00]\n",
      " [9.99999762e-01]\n",
      " [1.00000000e+00]\n",
      " [1.20067596e-03]\n",
      " [3.42869759e-03]\n",
      " [9.99999523e-01]\n",
      " [9.99997973e-01]\n",
      " [9.20319110e-09]\n",
      " [1.11042090e-17]\n",
      " [9.99975443e-01]\n",
      " [2.97859681e-10]\n",
      " [1.78055167e-02]\n",
      " [1.11403082e-07]\n",
      " [1.36200555e-07]\n",
      " [1.00000000e+00]\n",
      " [1.00000000e+00]\n",
      " [9.99999046e-01]\n",
      " [9.73780772e-08]\n",
      " [9.99999106e-01]\n",
      " [1.62227849e-07]\n",
      " [1.00000000e+00]\n",
      " [9.99995112e-01]\n",
      " [2.14551235e-07]\n",
      " [1.00000000e+00]\n",
      " [2.32164331e-12]\n",
      " [3.03158449e-05]\n",
      " [1.34691417e-01]\n",
      " [8.92612338e-03]\n",
      " [4.83512878e-03]\n",
      " [1.00000000e+00]\n",
      " [6.68404482e-07]]\n"
     ]
    }
   ],
   "source": [
    "print(pred)"
   ]
  },
  {
   "cell_type": "code",
   "execution_count": 70,
   "id": "realistic-amendment",
   "metadata": {},
   "outputs": [
    {
     "data": {
      "text/plain": [
       "(320, 1)"
      ]
     },
     "execution_count": 70,
     "metadata": {},
     "output_type": "execute_result"
    }
   ],
   "source": [
    "pred.shape"
   ]
  },
  {
   "cell_type": "code",
   "execution_count": 71,
   "id": "annual-taiwan",
   "metadata": {},
   "outputs": [],
   "source": [
    "newpred = []\n",
    "for i in pred:\n",
    "    if i>0.5:\n",
    "        x = 1\n",
    "    else:\n",
    "        x = 0\n",
    "    newpred.append(x)"
   ]
  },
  {
   "cell_type": "code",
   "execution_count": 72,
   "id": "interim-stocks",
   "metadata": {},
   "outputs": [
    {
     "name": "stdout",
     "output_type": "stream",
     "text": [
      "[1, 0, 0, 0, 1, 0, 1, 1, 1, 0, 1, 0, 1, 1, 0, 0, 1, 0, 0, 0, 1, 0, 1, 1, 0, 0, 1, 1, 0, 1, 0, 1, 1, 1, 1, 1, 0, 1, 1, 0, 0, 1, 1, 0, 0, 0, 0, 1, 0, 0, 1, 0, 0, 1, 1, 1, 0, 1, 0, 0, 0, 0, 0, 0, 0, 0, 0, 1, 1, 0, 0, 0, 1, 1, 1, 1, 1, 0, 0, 1, 0, 0, 1, 0, 0, 0, 1, 0, 0, 0, 0, 0, 1, 0, 0, 0, 1, 0, 0, 0, 0, 1, 0, 1, 1, 0, 0, 0, 0, 1, 0, 0, 1, 1, 1, 0, 1, 0, 1, 0, 1, 1, 0, 0, 0, 1, 0, 1, 1, 1, 1, 0, 1, 0, 1, 0, 1, 1, 1, 1, 0, 0, 0, 1, 1, 0, 1, 0, 0, 0, 1, 1, 0, 0, 0, 1, 1, 0, 1, 0, 1, 1, 0, 0, 1, 0, 1, 1, 1, 1, 0, 1, 1, 0, 1, 1, 0, 0, 0, 0, 0, 1, 1, 0, 0, 1, 0, 1, 1, 0, 0, 0, 0, 1, 1, 0, 0, 0, 1, 0, 1, 1, 0, 1, 0, 1, 0, 1, 1, 0, 0, 1, 1, 1, 1, 0, 0, 1, 0, 1, 0, 0, 0, 0, 1, 0, 0, 1, 1, 1, 1, 0, 1, 1, 1, 0, 0, 0, 1, 0, 0, 1, 1, 0, 1, 1, 0, 0, 1, 1, 0, 0, 1, 1, 0, 1, 0, 1, 1, 1, 1, 1, 1, 1, 0, 0, 1, 1, 1, 1, 1, 0, 1, 0, 1, 1, 1, 1, 1, 0, 1, 0, 1, 0, 1, 1, 1, 0, 1, 1, 1, 1, 0, 0, 1, 1, 0, 0, 1, 0, 0, 0, 0, 1, 1, 1, 0, 1, 0, 1, 1, 0, 1, 0, 0, 0, 0, 0, 1, 0]\n"
     ]
    }
   ],
   "source": [
    "pred = newpred\n",
    "print(pred)"
   ]
  },
  {
   "cell_type": "code",
   "execution_count": 73,
   "id": "sustainable-accessory",
   "metadata": {},
   "outputs": [
    {
     "name": "stdout",
     "output_type": "stream",
     "text": [
      "['real', 'fake', 'fake', 'fake', 'real', 'fake', 'real', 'real', 'real', 'fake', 'real', 'fake', 'real', 'real', 'fake', 'fake', 'real', 'fake', 'fake', 'fake', 'real', 'fake', 'real', 'real', 'fake', 'fake', 'real', 'real', 'fake', 'real', 'fake', 'real', 'real', 'real', 'real', 'real', 'fake', 'real', 'real', 'fake', 'fake', 'real', 'real', 'fake', 'fake', 'fake', 'fake', 'real', 'fake', 'fake', 'real', 'fake', 'fake', 'real', 'real', 'real', 'fake', 'real', 'fake', 'fake', 'fake', 'fake', 'fake', 'fake', 'fake', 'fake', 'fake', 'real', 'real', 'fake', 'fake', 'fake', 'real', 'real', 'real', 'real', 'real', 'fake', 'fake', 'real', 'fake', 'fake', 'real', 'fake', 'fake', 'fake', 'real', 'fake', 'fake', 'fake', 'fake', 'fake', 'real', 'fake', 'fake', 'fake', 'real', 'fake', 'fake', 'fake', 'fake', 'real', 'fake', 'real', 'real', 'fake', 'fake', 'fake', 'fake', 'real', 'fake', 'fake', 'real', 'real', 'real', 'fake', 'real', 'fake', 'real', 'fake', 'real', 'real', 'fake', 'fake', 'fake', 'real', 'fake', 'real', 'real', 'real', 'real', 'fake', 'real', 'fake', 'real', 'fake', 'real', 'real', 'real', 'real', 'fake', 'fake', 'fake', 'real', 'real', 'fake', 'real', 'fake', 'fake', 'fake', 'real', 'real', 'fake', 'fake', 'fake', 'real', 'real', 'fake', 'real', 'fake', 'real', 'real', 'fake', 'fake', 'real', 'fake', 'real', 'real', 'real', 'real', 'fake', 'real', 'real', 'fake', 'real', 'real', 'fake', 'fake', 'fake', 'fake', 'fake', 'real', 'real', 'fake', 'fake', 'real', 'fake', 'real', 'real', 'fake', 'fake', 'fake', 'fake', 'real', 'real', 'fake', 'fake', 'fake', 'real', 'fake', 'real', 'real', 'fake', 'real', 'fake', 'real', 'fake', 'real', 'real', 'fake', 'fake', 'real', 'real', 'real', 'real', 'fake', 'fake', 'real', 'fake', 'real', 'fake', 'fake', 'fake', 'fake', 'real', 'fake', 'fake', 'real', 'real', 'real', 'real', 'fake', 'real', 'real', 'real', 'fake', 'fake', 'fake', 'real', 'fake', 'fake', 'real', 'real', 'fake', 'real', 'real', 'fake', 'fake', 'real', 'real', 'fake', 'fake', 'real', 'real', 'fake', 'real', 'fake', 'real', 'real', 'real', 'real', 'real', 'real', 'real', 'fake', 'fake', 'real', 'real', 'real', 'real', 'real', 'fake', 'real', 'fake', 'real', 'real', 'real', 'real', 'real', 'fake', 'real', 'fake', 'real', 'fake', 'real', 'real', 'real', 'fake', 'real', 'real', 'real', 'real', 'fake', 'fake', 'real', 'real', 'fake', 'fake', 'real', 'fake', 'fake', 'fake', 'fake', 'real', 'real', 'real', 'fake', 'real', 'fake', 'real', 'real', 'fake', 'real', 'fake', 'fake', 'fake', 'fake', 'fake', 'real', 'fake']\n"
     ]
    }
   ],
   "source": [
    "ans = []\n",
    "prediction = []\n",
    "labels = ['fake', 'real']\n",
    "\n",
    "for i in range(320):\n",
    "    prediction.append(labels[pred[i]])\n",
    "\n",
    "for i in range(len(y)-320, len(y)):\n",
    "    ans.append(labels[y[i]])\n",
    "print(prediction)"
   ]
  },
  {
   "cell_type": "code",
   "execution_count": 74,
   "id": "south-raising",
   "metadata": {},
   "outputs": [
    {
     "name": "stdout",
     "output_type": "stream",
     "text": [
      "[[86 70]\n",
      " [75 89]]\n"
     ]
    }
   ],
   "source": [
    "from sklearn.metrics import confusion_matrix\n",
    "#confusion_matrix(y_train_5, y_train_pred)\n",
    "#print(prediction)\n",
    "matrix = confusion_matrix(ans,prediction)\n",
    "print(matrix)"
   ]
  },
  {
   "cell_type": "code",
   "execution_count": 75,
   "id": "executive-heath",
   "metadata": {},
   "outputs": [
    {
     "data": {
      "text/plain": [
       "Text(69.0, 0.5, 'Truth')"
      ]
     },
     "execution_count": 75,
     "metadata": {},
     "output_type": "execute_result"
    },
    {
     "data": {
      "image/png": "[encoded data removed]",
      "text/plain": [
       "<Figure size 720x504 with 2 Axes>"
      ]
     },
     "metadata": {
      "needs_background": "light"
     },
     "output_type": "display_data"
    }
   ],
   "source": [
    "import seaborn as sn\n",
    "import matplotlib.pyplot as plt\n",
    "plt.figure(figsize = (10,7))\n",
    "sn.heatmap(matrix, annot=True, fmt='g')\n",
    "plt.xlabel('Predicted')\n",
    "plt.ylabel('Truth')"
   ]
  },
  {
   "cell_type": "code",
   "execution_count": null,
   "id": "consistent-values",
   "metadata": {},
   "outputs": [],
   "source": []
  }
 ],
 "metadata": {
  "kernelspec": {
   "display_name": "Python 3",
   "language": "python",
   "name": "python3"
  },
  "language_info": {
   "codemirror_mode": {
    "name": "ipython",
    "version": 3
   },
   "file_extension": ".py",
   "mimetype": "text/x-python",
   "name": "python",
   "nbconvert_exporter": "python",
   "pygments_lexer": "ipython3",
   "version": "3.6.12"
  }
 },
 "nbformat": 4,
 "nbformat_minor": 5
}
