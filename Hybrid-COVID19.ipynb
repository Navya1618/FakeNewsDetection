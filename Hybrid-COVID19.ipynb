{
 "cells": [
  {
   "cell_type": "code",
   "execution_count": 2,
   "id": "molecular-security",
   "metadata": {},
   "outputs": [
    {
     "name": "stdout",
     "output_type": "stream",
     "text": [
      "Requirement already satisfied: bert-for-tf2 in c:\\users\\navyasree\\anaconda3\\envs\\fakenews\\lib\\site-packages (0.14.9)\n",
      "Requirement already satisfied: py-params>=0.9.6 in c:\\users\\navyasree\\anaconda3\\envs\\fakenews\\lib\\site-packages (from bert-for-tf2) (0.10.2)\n",
      "Requirement already satisfied: params-flow>=0.8.0 in c:\\users\\navyasree\\anaconda3\\envs\\fakenews\\lib\\site-packages (from bert-for-tf2) (0.8.2)\n",
      "Requirement already satisfied: numpy in c:\\users\\navyasree\\anaconda3\\envs\\fakenews\\lib\\site-packages (from params-flow>=0.8.0->bert-for-tf2) (1.19.5)\n",
      "Requirement already satisfied: tqdm in c:\\users\\navyasree\\anaconda3\\envs\\fakenews\\lib\\site-packages (from params-flow>=0.8.0->bert-for-tf2) (4.59.0)\n",
      "Requirement already satisfied: sentencepiece in c:\\users\\navyasree\\anaconda3\\envs\\fakenews\\lib\\site-packages (0.1.95)\n"
     ]
    }
   ],
   "source": [
    "!pip install bert-for-tf2\n",
    "!pip install sentencepiece"
   ]
  },
  {
   "cell_type": "code",
   "execution_count": 3,
   "id": "defined-factor",
   "metadata": {},
   "outputs": [],
   "source": [
    "try:\n",
    "    %tensorflow_version 2.x\n",
    "except Exception:\n",
    "    pass\n",
    "import tensorflow as tf\n",
    "from tensorflow.keras.models import Sequential\n",
    "from tensorflow.keras.layers import Dense, Flatten, LSTM, Dropout, Activation, Embedding, Bidirectional\n",
    "import tensorflow_hub as hub\n",
    "from tensorflow.keras import layers\n",
    "import bert\n",
    "import pandas as pd\n",
    "import re\n",
    "import csv\n",
    "import numpy as np\n",
    "import math"
   ]
  },
  {
   "cell_type": "code",
   "execution_count": 4,
   "id": "included-gauge",
   "metadata": {},
   "outputs": [
    {
     "name": "stdout",
     "output_type": "stream",
     "text": [
      "2.4.1\n"
     ]
    }
   ],
   "source": [
    "print(tf.__version__)"
   ]
  },
  {
   "cell_type": "code",
   "execution_count": 5,
   "id": "bibliographic-conclusion",
   "metadata": {},
   "outputs": [],
   "source": [
    "BertTokenizer = bert.bert_tokenization.FullTokenizer\n",
    "bert_layer = hub.KerasLayer(\"https://tfhub.dev/tensorflow/bert_en_uncased_L-12_H-768_A-12/1\",\n",
    "                            trainable=False)\n",
    "vocabulary_file = bert_layer.resolved_object.vocab_file.asset_path.numpy()\n",
    "to_lower_case = bert_layer.resolved_object.do_lower_case.numpy()\n",
    "tokenizer = BertTokenizer(vocabulary_file, to_lower_case)"
   ]
  },
  {
   "cell_type": "code",
   "execution_count": 6,
   "id": "cross-nerve",
   "metadata": {},
   "outputs": [
    {
     "data": {
      "text/plain": [
       "(6420, 3)"
      ]
     },
     "execution_count": 6,
     "metadata": {},
     "output_type": "execute_result"
    }
   ],
   "source": [
    "train_all = pd.read_csv(\"all2.csv\", delimiter = \",\")\n",
    "train_all.isnull().values.any()\n",
    "train_all.shape"
   ]
  },
  {
   "cell_type": "code",
   "execution_count": 7,
   "id": "usual-elevation",
   "metadata": {},
   "outputs": [],
   "source": [
    "def preprocess_text(sen):\n",
    "    # Removing html tags\n",
    "    sentence = remove_tags(sen)\n",
    "\n",
    "    # Remove punctuations and numbers\n",
    "    sentence = re.sub('[^a-zA-Z]', ' ', sentence)\n",
    "\n",
    "    # Single character removal\n",
    "    sentence = re.sub(r\"\\s+[a-zA-Z]\\s+\", ' ', sentence)\n",
    "\n",
    "    # Removing multiple spaces\n",
    "    sentence = re.sub(r'\\s+', ' ', sentence)\n",
    "\n",
    "    return sentence"
   ]
  },
  {
   "cell_type": "code",
   "execution_count": 8,
   "id": "cellular-thriller",
   "metadata": {},
   "outputs": [],
   "source": [
    "TAG_RE = re.compile(r'<[^>]+>')\n",
    "\n",
    "def remove_tags(text):\n",
    "    return TAG_RE.sub('', text)"
   ]
  },
  {
   "cell_type": "code",
   "execution_count": 9,
   "id": "crude-working",
   "metadata": {},
   "outputs": [
    {
     "name": "stdout",
     "output_type": "stream",
     "text": [
      "6420\n"
     ]
    }
   ],
   "source": [
    "articles = []\n",
    "labels = []\n",
    "\n",
    "with open(\"all2.csv\", 'r', encoding = 'utf-8') as csvfile:\n",
    "    reader = csv.reader(csvfile, delimiter=',')\n",
    "    next(reader)\n",
    "    for row in reader:\n",
    "        labels.append(row[2])\n",
    "        #if(len(row)>13):\n",
    "            #article = row[2]+row[3]+row[4]+row[5]+row[7]+row[13]\n",
    "        #else:\n",
    "        article = row[1]\n",
    "        articles.append(preprocess_text(article))\n",
    "\n",
    "print(len(articles))"
   ]
  },
  {
   "cell_type": "code",
   "execution_count": 10,
   "id": "domestic-confidentiality",
   "metadata": {},
   "outputs": [],
   "source": [
    "def tokenize_articles(txt):\n",
    "    return tokenizer.convert_tokens_to_ids(tokenizer.tokenize(txt))"
   ]
  },
  {
   "cell_type": "code",
   "execution_count": 11,
   "id": "international-volunteer",
   "metadata": {},
   "outputs": [
    {
     "name": "stdout",
     "output_type": "stream",
     "text": [
      "6420\n"
     ]
    }
   ],
   "source": [
    "tokenized_articles = [tokenize_articles(article) for article in articles]\n",
    "print(len(tokenized_articles))"
   ]
  },
  {
   "cell_type": "code",
   "execution_count": 12,
   "id": "sapphire-hours",
   "metadata": {},
   "outputs": [
    {
     "name": "stdout",
     "output_type": "stream",
     "text": [
      "[1 1 0 ... 0 0 1]\n"
     ]
    }
   ],
   "source": [
    "y = train_all['label']\n",
    "y = np.array(list(map(lambda x: 1 if x=='real' else 0, y)))\n",
    "\n",
    "print(y)"
   ]
  },
  {
   "cell_type": "code",
   "execution_count": 13,
   "id": "conceptual-hindu",
   "metadata": {},
   "outputs": [],
   "source": [
    "input_with_len = [[tokenized_articles[i], y[i], len(tokenized_articles[i])]\n",
    "                 for i in range(0, len(articles))]"
   ]
  },
  {
   "cell_type": "code",
   "execution_count": 14,
   "id": "virgin-aerospace",
   "metadata": {},
   "outputs": [
    {
     "name": "stdout",
     "output_type": "stream",
     "text": [
      "[[16034, 8563, 21887, 23350], 0, 4]\n"
     ]
    }
   ],
   "source": [
    "input_with_len.sort(key=lambda x: x[2])\n",
    "print(input_with_len[0])"
   ]
  },
  {
   "cell_type": "code",
   "execution_count": 15,
   "id": "horizontal-booth",
   "metadata": {},
   "outputs": [
    {
     "name": "stdout",
     "output_type": "stream",
     "text": [
      "6420\n",
      "([16034, 8563, 21887, 23350], 0)\n"
     ]
    }
   ],
   "source": [
    "import random\n",
    "\n",
    "sorted_articles_labels = [(article_lab[0], article_lab[1]) for article_lab in input_with_len]\n",
    "print(len(sorted_articles_labels))\n",
    "print(sorted_articles_labels[0])\n",
    "random.shuffle(sorted_articles_labels)"
   ]
  },
  {
   "cell_type": "code",
   "execution_count": 55,
   "id": "experimental-sympathy",
   "metadata": {},
   "outputs": [],
   "source": [
    "processed_dataset = tf.data.Dataset.from_generator(lambda: sorted_articles_labels, output_types=(tf.int32, tf.int32))"
   ]
  },
  {
   "cell_type": "code",
   "execution_count": 56,
   "id": "useful-peoples",
   "metadata": {},
   "outputs": [
    {
     "data": {
      "text/plain": [
       "(<tf.Tensor: shape=(32, 56), dtype=int32, numpy=\n",
       " array([[19387, 14255,  2497, ...,     0,     0,     0],\n",
       "        [ 2111,  5799,  2000, ...,     0,     0,     0],\n",
       "        [ 2107,  2152,  2504, ...,     0,     0,     0],\n",
       "        ...,\n",
       "        [ 2678,  2038,  2042, ...,     0,     0,     0],\n",
       "        [ 4954, 22328, 24667, ...,     0,     0,     0],\n",
       "        [19387,  3005, 10464, ...,     0,     0,     0]])>,\n",
       " <tf.Tensor: shape=(32,), dtype=int32, numpy=\n",
       " array([1, 1, 1, 0, 0, 1, 1, 0, 1, 1, 0, 1, 0, 1, 1, 1, 1, 0, 0, 1, 1, 1,\n",
       "        0, 1, 0, 0, 0, 1, 1, 0, 1, 1])>)"
      ]
     },
     "execution_count": 56,
     "metadata": {},
     "output_type": "execute_result"
    }
   ],
   "source": [
    "BATCH_SIZE = 32\n",
    "batched_dataset = processed_dataset.padded_batch(BATCH_SIZE, padded_shapes=((None, ), ()))\n",
    "next(iter(batched_dataset))"
   ]
  },
  {
   "cell_type": "code",
   "execution_count": 57,
   "id": "scientific-gasoline",
   "metadata": {},
   "outputs": [
    {
     "name": "stdout",
     "output_type": "stream",
     "text": [
      "201\n",
      "10\n"
     ]
    }
   ],
   "source": [
    "TOTAL_BATCHES = math.ceil(len(sorted_articles_labels) / BATCH_SIZE)\n",
    "print(TOTAL_BATCHES)\n",
    "TEST_BATCHES = TOTAL_BATCHES // 20\n",
    "batched_dataset.shuffle(TOTAL_BATCHES)\n",
    "test_data = batched_dataset.take(TEST_BATCHES)\n",
    "train_data = batched_dataset.skip(TEST_BATCHES)\n",
    "print(TEST_BATCHES)"
   ]
  },
  {
   "cell_type": "code",
   "execution_count": 58,
   "id": "opposed-consciousness",
   "metadata": {},
   "outputs": [],
   "source": [
    "class TEXT_MODEL(tf.keras.Model):\n",
    "    \n",
    "    def __init__(self,\n",
    "                 vocabulary_size,\n",
    "                 embedding_dimensions=128,\n",
    "                 cnn_filters=50,\n",
    "                 dnn_units=512,\n",
    "                 model_output_classes=2,\n",
    "                 dropout_rate=0.1,\n",
    "                 training=False,\n",
    "                 name=\"text_model\"):\n",
    "        super(TEXT_MODEL, self).__init__(name=name)\n",
    "        \n",
    "        self.embedding = layers.Embedding(vocabulary_size,\n",
    "                                          embedding_dimensions)\n",
    "        self.cnn_layer1 = layers.Conv1D(filters=cnn_filters,\n",
    "                                        kernel_size=2,\n",
    "                                        padding=\"valid\",\n",
    "                                        activation=\"relu\")\n",
    "        self.cnn_layer2 = layers.Conv1D(filters=cnn_filters,\n",
    "                                        kernel_size=3,\n",
    "                                        padding=\"valid\",\n",
    "                                        activation=\"relu\")\n",
    "        self.cnn_layer3 = layers.Bidirectional(LSTM(embedding_dimensions))\n",
    "        self.pool = layers.GlobalMaxPool1D()\n",
    "\n",
    "        \n",
    "        self.dense_1 = layers.Dense(units=dnn_units, activation=\"relu\")\n",
    "        self.dropout = layers.Dropout(rate=dropout_rate)\n",
    "        if model_output_classes == 2:\n",
    "            self.last_dense = layers.Dense(units=1,\n",
    "                                           activation=\"sigmoid\")\n",
    "        else:\n",
    "            self.last_dense = layers.Dense(units=model_output_classes,\n",
    "                                           activation=\"softmax\")\n",
    "    \n",
    "    def call(self, inputs, training):\n",
    "        l = self.embedding(inputs)\n",
    "        l_1 = self.cnn_layer1(l) \n",
    "        l_1 = self.pool(l_1) \n",
    "        l_2 = self.cnn_layer2(l) \n",
    "        l_2 = self.pool(l_2)\n",
    "        l_3 = self.cnn_layer3(l)\n",
    "        \n",
    "        concatenated = tf.concat([l_1, l_2, l_3], axis=-1) # (batch_size, 3 * cnn_filters)\n",
    "        concatenated = self.dense_1(concatenated)\n",
    "        concatenated = self.dropout(concatenated, training)\n",
    "        model_output = self.last_dense(concatenated)\n",
    "        \n",
    "        return model_output"
   ]
  },
  {
   "cell_type": "code",
   "execution_count": 59,
   "id": "confident-french",
   "metadata": {},
   "outputs": [],
   "source": [
    "VOCAB_LENGTH = len(tokenizer.vocab)\n",
    "EMB_DIM = 200\n",
    "CNN_FILTERS = 100\n",
    "DNN_UNITS = 256\n",
    "OUTPUT_CLASSES = 2\n",
    "\n",
    "DROPOUT_RATE = 0.2\n",
    "\n",
    "NB_EPOCHS = 10"
   ]
  },
  {
   "cell_type": "code",
   "execution_count": 60,
   "id": "wireless-newcastle",
   "metadata": {},
   "outputs": [],
   "source": [
    "text_model = TEXT_MODEL(vocabulary_size=VOCAB_LENGTH,\n",
    "                        embedding_dimensions=EMB_DIM,\n",
    "                        cnn_filters=CNN_FILTERS,\n",
    "                        dnn_units=DNN_UNITS,\n",
    "                        model_output_classes=OUTPUT_CLASSES,\n",
    "                        dropout_rate=DROPOUT_RATE)"
   ]
  },
  {
   "cell_type": "code",
   "execution_count": 61,
   "id": "unusual-timber",
   "metadata": {},
   "outputs": [],
   "source": [
    "if OUTPUT_CLASSES == 2:\n",
    "    text_model.compile(loss=\"binary_crossentropy\",\n",
    "                       optimizer=\"adam\",\n",
    "                       metrics=[\"accuracy\"])\n",
    "else:\n",
    "    text_model.compile(loss=\"sparse_categorical_crossentropy\",\n",
    "                       optimizer=\"adam\",\n",
    "                       metrics=[\"sparse_categorical_accuracy\"])"
   ]
  },
  {
   "cell_type": "code",
   "execution_count": 62,
   "id": "previous-class",
   "metadata": {},
   "outputs": [
    {
     "name": "stdout",
     "output_type": "stream",
     "text": [
      "Epoch 1/10\n",
      "191/191 [==============================] - 216s 1s/step - loss: 0.4180 - accuracy: 0.7726\n",
      "Epoch 2/10\n",
      "191/191 [==============================] - 245s 1s/step - loss: 0.0816 - accuracy: 0.9708\n",
      "Epoch 3/10\n",
      "191/191 [==============================] - 236s 1s/step - loss: 0.0085 - accuracy: 0.9978\n",
      "Epoch 4/10\n",
      "191/191 [==============================] - 256s 1s/step - loss: 0.0023 - accuracy: 0.9996\n",
      "Epoch 5/10\n",
      "191/191 [==============================] - 264s 1s/step - loss: 9.9852e-04 - accuracy: 1.0000\n",
      "Epoch 6/10\n",
      "191/191 [==============================] - 237s 1s/step - loss: 4.5162e-04 - accuracy: 1.0000\n",
      "Epoch 7/10\n",
      "191/191 [==============================] - 217s 1s/step - loss: 1.3333e-04 - accuracy: 1.0000\n",
      "Epoch 8/10\n",
      "191/191 [==============================] - 268s 1s/step - loss: 2.7187e-05 - accuracy: 1.0000\n",
      "Epoch 9/10\n",
      "191/191 [==============================] - 268s 1s/step - loss: 2.0834e-05 - accuracy: 1.0000\n",
      "Epoch 10/10\n",
      "191/191 [==============================] - 271s 1s/step - loss: 1.4028e-05 - accuracy: 1.0000\n"
     ]
    },
    {
     "data": {
      "text/plain": [
       "<tensorflow.python.keras.callbacks.History at 0x28b26f372e8>"
      ]
     },
     "execution_count": 62,
     "metadata": {},
     "output_type": "execute_result"
    }
   ],
   "source": [
    "text_model.fit(train_data, epochs=NB_EPOCHS)"
   ]
  },
  {
   "cell_type": "code",
   "execution_count": 63,
   "id": "appreciated-african",
   "metadata": {},
   "outputs": [
    {
     "name": "stdout",
     "output_type": "stream",
     "text": [
      "10/10 [==============================] - 3s 193ms/step - loss: 0.4523 - accuracy: 0.9156\n",
      "[0.45231932401657104, 0.9156249761581421]\n"
     ]
    }
   ],
   "source": [
    "results = text_model.evaluate(test_data)\n",
    "print(results)"
   ]
  },
  {
   "cell_type": "code",
   "execution_count": 34,
   "id": "consistent-values",
   "metadata": {},
   "outputs": [
    {
     "name": "stdout",
     "output_type": "stream",
     "text": [
      "[1, 1, 1, 0, 0]\n"
     ]
    },
    {
     "data": {
      "text/plain": [
       "[1, 1, 1, 1, 0]"
      ]
     },
     "execution_count": 34,
     "metadata": {},
     "output_type": "execute_result"
    }
   ],
   "source": [
    "y_test = []\n",
    "for element in test_data.as_numpy_iterator():\n",
    "  y_test += element[1].tolist()\n",
    "\n",
    "print(y_test[:5])\n",
    "\n",
    "y_pred = text_model.predict(test_data)\n",
    "y_pred = (y_pred > 0.5).astype('int').ravel().tolist()\n",
    "y_pred[:5]"
   ]
  },
  {
   "cell_type": "code",
   "execution_count": 35,
   "id": "composed-vanilla",
   "metadata": {},
   "outputs": [
    {
     "name": "stdout",
     "output_type": "stream",
     "text": [
      "[[146  12]\n",
      " [ 11 151]]\n"
     ]
    }
   ],
   "source": [
    "from sklearn import metrics\n",
    "from sklearn.metrics import confusion_matrix\n",
    "#confusion_matrix(y_train_5, y_train_pred)\n",
    "#print(prediction)\n",
    "matrix = confusion_matrix(y_test,y_pred)\n",
    "print(matrix)"
   ]
  },
  {
   "cell_type": "code",
   "execution_count": 36,
   "id": "dying-prairie",
   "metadata": {},
   "outputs": [
    {
     "name": "stdout",
     "output_type": "stream",
     "text": [
      "              precision    recall  f1-score   support\n",
      "\n",
      "           0       0.93      0.92      0.93       158\n",
      "           1       0.93      0.93      0.93       162\n",
      "\n",
      "    accuracy                           0.93       320\n",
      "   macro avg       0.93      0.93      0.93       320\n",
      "weighted avg       0.93      0.93      0.93       320\n",
      "\n"
     ]
    }
   ],
   "source": [
    "print(metrics.classification_report(y_test, y_pred, digits=2))"
   ]
  },
  {
   "cell_type": "code",
   "execution_count": 37,
   "id": "upper-plaza",
   "metadata": {},
   "outputs": [
    {
     "data": {
      "text/plain": [
       "Text(69.0, 0.5, 'Truth')"
      ]
     },
     "execution_count": 37,
     "metadata": {},
     "output_type": "execute_result"
    },
    {
     "data": {
      "image/png": "[encoded data removed]",
      "text/plain": [
       "<Figure size 720x504 with 2 Axes>"
      ]
     },
     "metadata": {
      "needs_background": "light"
     },
     "output_type": "display_data"
    }
   ],
   "source": [
    "import seaborn as sn\n",
    "import matplotlib.pyplot as plt\n",
    "plt.figure(figsize = (10,7))\n",
    "sn.heatmap(matrix, annot=True, fmt='g')\n",
    "plt.xlabel('Predicted')\n",
    "plt.ylabel('Truth')"
   ]
  },
  {
   "cell_type": "code",
   "execution_count": null,
   "id": "requested-water",
   "metadata": {},
   "outputs": [],
   "source": []
  }
 ],
 "metadata": {
  "kernelspec": {
   "display_name": "Python 3",
   "language": "python",
   "name": "python3"
  },
  "language_info": {
   "codemirror_mode": {
    "name": "ipython",
    "version": 3
   },
   "file_extension": ".py",
   "mimetype": "text/x-python",
   "name": "python",
   "nbconvert_exporter": "python",
   "pygments_lexer": "ipython3",
   "version": "3.6.12"
  }
 },
 "nbformat": 4,
 "nbformat_minor": 5
}
